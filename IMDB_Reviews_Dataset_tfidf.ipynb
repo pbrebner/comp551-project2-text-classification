{
 "cells": [
  {
   "cell_type": "markdown",
   "metadata": {},
   "source": [
    "# IMDB Reviews Dataset\n",
    "\n",
    "The IMDB Review dataset contains movie reviews along with associated binary sentiment polarity labels.The main dataset contains 50,000 reviews split evenly between a train and test set (25,000 each). The distribution of positive and negative labels are balanced.\n",
    "\n",
    "In the entire dataset, no more than 30 movie reviews are allowed for the same movie. This is because reviews for the same movie tend to have correlation. Further, the train and test sets contain a disjoint set of movies, so no significant performance is obtained by memorizing movie-unique terms and their associated with observed labels.\n",
    "\n",
    "For the train/test set a negative review has a score <= 4 out of 10 and a positive review has a score >= 7 out of 10. Reviews with a more neutral score were not included in the dataset.\n",
    "\n",
    "Link: http://ai.stanford.edu/~amaas/data/sentiment/aclImdb_v1.tar.gz\n",
    "\n",
    "The objective is to perform a sentiment analysis on this dataset using various machine learning models\n",
    "\n",
    "\n",
    "## Loading the IMDB Dataset\n",
    "\n",
    "Format the dataset into lists of strings and review a few examples of positive and negative reviews\n"
   ]
  },
  {
   "cell_type": "code",
   "execution_count": 1,
   "metadata": {},
   "outputs": [],
   "source": [
    "# Importing necessary libraries (general)\n",
    "import numpy as np\n",
    "import pandas as pd\n",
    "import matplotlib.pyplot as plt\n",
    "import seaborn as sns\n",
    "import math\n"
   ]
  },
  {
   "cell_type": "code",
   "execution_count": 2,
   "metadata": {},
   "outputs": [
    {
     "name": "stdout",
     "output_type": "stream",
     "text": [
      "Dataset unpacked in aclImdb Folder\n"
     ]
    }
   ],
   "source": [
    "import tarfile\n",
    "import wget\n",
    "import os\n",
    "import os.path\n",
    "\n",
    "#DownLoad IMDB Data to your working path from the link below\n",
    "URL = \"http://ai.stanford.edu/~amaas/data/sentiment/aclImdb_v1.tar.gz\"\n",
    "\n",
    "#Downloads the file to your current working directory\n",
    "#May need to install the wget package: conda install -c conda-forge python-wget\n",
    "if not os.path.exists('aclImdb_v1.tar.gz'):\n",
    "    wget.download(URL)\n",
    "\n",
    "#The file downloaded is in the aclImdb_v1.tar.gz file\n",
    "tar = tarfile.open(\"aclImdb_v1.tar.gz\")\n",
    "tar.extractall()\n",
    "tar.close()\n",
    "print(\"Dataset unpacked in aclImdb Folder\")"
   ]
  },
  {
   "cell_type": "code",
   "execution_count": 3,
   "metadata": {},
   "outputs": [],
   "source": [
    "#Read the original text files from the aclImdb folder and write the contents to a new text file.\n",
    "#The end result is 4 text files for positive and negative reviews in seperate train and test datasets\n",
    "import shutil\n",
    "import glob\n",
    "import os\n",
    "import os.path\n",
    "from pathlib import Path\n",
    "\n",
    "#Make a folder for the new text files\n",
    "if not os.path.exists('IMDB_Data'):\n",
    "    os.mkdir(\"IMDB_Data\")\n",
    "\n",
    "read_files = glob.glob(os.path.join('aclImdb/train/pos',\"*.txt\"))\n",
    "\n",
    "with open('IMDB_Data/pos_train.txt','wb') as outfile:\n",
    "    for f in read_files:\n",
    "        with open(f,'rb') as infile:\n",
    "            shutil.copyfileobj(infile, outfile)\n",
    "        outfile.write(b\"\\n\")\n",
    "        \n",
    "read_files = glob.glob(os.path.join('aclImdb/train/neg',\"*.txt\"))\n",
    "\n",
    "with open('IMDB_Data/neg_train.txt','wb') as outfile:\n",
    "    for f in read_files:\n",
    "        with open(f,'rb') as infile:\n",
    "            shutil.copyfileobj(infile, outfile)\n",
    "        outfile.write(b\"\\n\")\n",
    "        \n",
    "read_files = glob.glob(os.path.join('aclImdb/test/pos',\"*.txt\"))\n",
    "\n",
    "with open('IMDB_Data/pos_test.txt','wb') as outfile:\n",
    "    for f in read_files:\n",
    "        with open(f,'rb') as infile:\n",
    "            shutil.copyfileobj(infile, outfile)\n",
    "        outfile.write(b\"\\n\")\n",
    "        \n",
    "read_files = glob.glob(os.path.join('aclImdb/test/neg',\"*.txt\"))\n",
    "\n",
    "with open('IMDB_Data/neg_test.txt','wb') as outfile:\n",
    "    for f in read_files:\n",
    "        with open(f,'rb') as infile:\n",
    "            shutil.copyfileobj(infile, outfile)\n",
    "        outfile.write(b\"\\n\")"
   ]
  },
  {
   "cell_type": "code",
   "execution_count": 2,
   "metadata": {},
   "outputs": [],
   "source": [
    "#Turn the contents of the text files into a list of strings\n",
    "reviews_train_pos = []\n",
    "for line in open('IMDB_Data/pos_train.txt', 'r', encoding = \"utf8\"):\n",
    "    reviews_train_pos.append(line.strip())\n",
    "    \n",
    "reviews_train_neg = []\n",
    "for line in open('IMDB_Data/neg_train.txt', 'r', encoding = \"utf8\"):\n",
    "    reviews_train_neg.append(line.strip())\n",
    "    \n",
    "reviews_test_pos = []\n",
    "for line in open('IMDB_Data/pos_test.txt', 'r', encoding = \"utf8\"):\n",
    "    reviews_test_pos.append(line.strip())\n",
    "    \n",
    "reviews_test_neg = []\n",
    "for line in open('IMDB_Data/neg_test.txt', 'r', encoding = \"utf8\"):\n",
    "    reviews_test_neg.append(line.strip())"
   ]
  },
  {
   "cell_type": "code",
   "execution_count": 3,
   "metadata": {},
   "outputs": [
    {
     "name": "stdout",
     "output_type": "stream",
     "text": [
      "12500\n",
      "12500\n",
      "12500\n",
      "12500\n"
     ]
    }
   ],
   "source": [
    "print(len(reviews_train_pos))\n",
    "print(len(reviews_train_neg))\n",
    "print(len(reviews_test_pos))\n",
    "print(len(reviews_test_neg))"
   ]
  },
  {
   "cell_type": "code",
   "execution_count": 103,
   "metadata": {},
   "outputs": [
    {
     "data": {
      "text/plain": [
       "'Bromwell High is a cartoon comedy. It ran at the same time as some other programs about school life, such as \"Teachers\". My 35 years in the teaching profession lead me to believe that Bromwell High\\'s satire is much closer to reality than is \"Teachers\". The scramble to survive financially, the insightful students who can see right through their pathetic teachers\\' pomp, the pettiness of the whole situation, all remind me of the schools I knew and their students. When I saw the episode in which a student repeatedly tried to burn down the school, I immediately recalled ......... at .......... High. A classic line: INSPECTOR: I\\'m here to sack one of your teachers. STUDENT: Welcome to Bromwell High. I expect that many adults of my age think that Bromwell High is far fetched. What a pity that it isn\\'t!'"
      ]
     },
     "execution_count": 103,
     "metadata": {},
     "output_type": "execute_result"
    }
   ],
   "source": [
    "#Positive Review Example\n",
    "reviews_train_pos[0]"
   ]
  },
  {
   "cell_type": "code",
   "execution_count": 104,
   "metadata": {},
   "outputs": [
    {
     "data": {
      "text/plain": [
       "'Brilliant over-acting by Lesley Ann Warren. Best dramatic hobo lady I have ever seen, and love scenes in clothes warehouse are second to none. The corn on face is a classic, as good as anything in Blazing Saddles. The take on lawyers is also superb. After being accused of being a turncoat, selling out his boss, and being dishonest the lawyer of Pepto Bolt shrugs indifferently \"I\\'m a lawyer\" he says. Three funny words. Jeffrey Tambor, a favorite from the later Larry Sanders show, is fantastic here too as a mad millionaire who wants to crush the ghetto. His character is more malevolent than usual. The hospital scene, and the scene where the homeless invade a demolition site, are all-time classics. Look for the legs scene and the two big diggers fighting (one bleeds). This movie gets better each time I see it (which is quite often).'"
      ]
     },
     "execution_count": 104,
     "metadata": {},
     "output_type": "execute_result"
    }
   ],
   "source": [
    "#Another Positive Review Example\n",
    "reviews_train_pos[2]"
   ]
  },
  {
   "cell_type": "code",
   "execution_count": 105,
   "metadata": {},
   "outputs": [
    {
     "data": {
      "text/plain": [
       "\"Story of a man who has unnatural feelings for a pig. Starts out with a opening scene that is a terrific example of absurd comedy. A formal orchestra audience is turned into an insane, violent mob by the crazy chantings of it's singers. Unfortunately it stays absurd the WHOLE time with no general narrative eventually making it just too off putting. Even those from the era should be turned off. The cryptic dialogue would make Shakespeare seem easy to a third grader. On a technical level it's better than you might think with some good cinematography by future great Vilmos Zsigmond. Future stars Sally Kirkland and Frederic Forrest can be seen briefly.\""
      ]
     },
     "execution_count": 105,
     "metadata": {},
     "output_type": "execute_result"
    }
   ],
   "source": [
    "#Negative Review Example\n",
    "reviews_train_neg[0]"
   ]
  },
  {
   "cell_type": "code",
   "execution_count": 106,
   "metadata": {},
   "outputs": [
    {
     "data": {
      "text/plain": [
       "\"This film lacked something I couldn't put my finger on at first: charisma on the part of the leading actress. This inevitably translated to lack of chemistry when she shared the screen with her leading man. Even the romantic scenes came across as being merely the actors at play. It could very well have been the director who miscalculated what he needed from the actors. I just don't know.<br /><br />But could it have been the screenplay? Just exactly who was the chef in love with? He seemed more enamored of his culinary skills and restaurant, and ultimately of himself and his youthful exploits, than of anybody or anything else. He never convinced me he was in love with the princess.<br /><br />I was disappointed in this movie. But, don't forget it was nominated for an Oscar, so judge for yourself.\""
      ]
     },
     "execution_count": 106,
     "metadata": {},
     "output_type": "execute_result"
    }
   ],
   "source": [
    "#Another Negative Review Example\n",
    "reviews_train_neg[2]"
   ]
  },
  {
   "cell_type": "markdown",
   "metadata": {},
   "source": [
    "## Preprocessing and Cleaning the Text Data\n",
    "\n",
    "As seen above, the original reviews are quite messy and need to be cleaned in order to help the machine learning models. This includes removing capital letters, removing punctuation, and any other uneccessary characters"
   ]
  },
  {
   "cell_type": "code",
   "execution_count": 4,
   "metadata": {},
   "outputs": [],
   "source": [
    "import re\n",
    "\n",
    "replace_no_space = re.compile(\"[.;:!\\'?_,\\\"()\\[\\]]\")\n",
    "replace_with_space = re.compile(\"(<br\\s*/><br\\s*/>)|(\\-)|(\\/)\")\n",
    "\n",
    "def preprocess_reviews(reviews):\n",
    "    reviews = [replace_no_space.sub(\"\", line.lower()) for line in reviews]\n",
    "    reviews = [replace_with_space.sub(\" \", line) for line in reviews]\n",
    "    \n",
    "    return reviews\n",
    "\n",
    "reviews_train_pos_clean = preprocess_reviews(reviews_train_pos)\n",
    "reviews_train_neg_clean = preprocess_reviews(reviews_train_neg)\n",
    "reviews_test_pos_clean = preprocess_reviews(reviews_test_pos)\n",
    "reviews_test_neg_clean = preprocess_reviews(reviews_test_neg)"
   ]
  },
  {
   "cell_type": "code",
   "execution_count": 5,
   "metadata": {},
   "outputs": [
    {
     "data": {
      "text/plain": [
       "'bromwell high is a cartoon comedy it ran at the same time as some other programs about school life such as teachers my 35 years in the teaching profession lead me to believe that bromwell highs satire is much closer to reality than is teachers the scramble to survive financially the insightful students who can see right through their pathetic teachers pomp the pettiness of the whole situation all remind me of the schools i knew and their students when i saw the episode in which a student repeatedly tried to burn down the school i immediately recalled  at  high a classic line inspector im here to sack one of your teachers student welcome to bromwell high i expect that many adults of my age think that bromwell high is far fetched what a pity that it isnt'"
      ]
     },
     "execution_count": 5,
     "metadata": {},
     "output_type": "execute_result"
    }
   ],
   "source": [
    "#The same postive review example after being cleaned\n",
    "reviews_train_pos_clean[0]"
   ]
  },
  {
   "cell_type": "code",
   "execution_count": 6,
   "metadata": {},
   "outputs": [
    {
     "data": {
      "text/plain": [
       "'story of a man who has unnatural feelings for a pig starts out with a opening scene that is a terrific example of absurd comedy a formal orchestra audience is turned into an insane violent mob by the crazy chantings of its singers unfortunately it stays absurd the whole time with no general narrative eventually making it just too off putting even those from the era should be turned off the cryptic dialogue would make shakespeare seem easy to a third grader on a technical level its better than you might think with some good cinematography by future great vilmos zsigmond future stars sally kirkland and frederic forrest can be seen briefly'"
      ]
     },
     "execution_count": 6,
     "metadata": {},
     "output_type": "execute_result"
    }
   ],
   "source": [
    "#The same negative review example after cleaning\n",
    "reviews_train_neg_clean[0]"
   ]
  },
  {
   "cell_type": "markdown",
   "metadata": {},
   "source": [
    "### Possible Further Text Processing: Removing Stop Words and Normalization\n",
    "\n",
    "Other methods of cleaning the data that can change the model performance include removing stop_words or Normalization (Stemming or Lematization)\n",
    "\n",
    "Stop words are very common words such as 'in', 'of', 'a', 'at', or 'the' that usually don't provide any useful information to the text classifier\n",
    "\n",
    "Normalization (Stemming or Lematization) is a common next step in text preprocessing that converts all the different forms of a certain word into one"
   ]
  },
  {
   "cell_type": "code",
   "execution_count": 10,
   "metadata": {},
   "outputs": [
    {
     "name": "stderr",
     "output_type": "stream",
     "text": [
      "[nltk_data] Downloading package wordnet to\n",
      "[nltk_data]     C:\\Users\\patri\\AppData\\Roaming\\nltk_data...\n",
      "[nltk_data]   Package wordnet is already up-to-date!\n",
      "[nltk_data] Downloading package stopwords to\n",
      "[nltk_data]     C:\\Users\\patri\\AppData\\Roaming\\nltk_data...\n",
      "[nltk_data]   Package stopwords is already up-to-date!\n"
     ]
    }
   ],
   "source": [
    "from nltk.stem.porter import PorterStemmer\n",
    "from nltk.stem import WordNetLemmatizer\n",
    "from nltk.corpus import stopwords\n",
    "import nltk\n",
    "\n",
    "nltk.download('wordnet')\n",
    "\n",
    "#Stemming\n",
    "def stemming_text(text_data):\n",
    "    stem = PorterStemmer()\n",
    "    return [' '.join([stem.stem(word) for word in review.split()]) for review in text_data]\n",
    "\n",
    "\n",
    "#Lemmatization\n",
    "def lemmatize_text(text_data):\n",
    "    lem = WordNetLemmatizer()\n",
    "    return [' '.join([lem.lemmatize(word) for word in review.split()]) for review in text_data]\n",
    "\n",
    "    \n",
    "#Alternatively there is an easier way to remove stop words by using the stop_words argument with any of scikit-learn’s ‘Vectorizer’ classes\n",
    "#Removing stop words often (but not always) improves the model accuracy   \n",
    "#Need to create the list of stop_words (usually more effective than general lists)\n",
    "#stop_words=['in','of','at','a','the']\n",
    "nltk.download('stopwords')\n",
    "stop_words = stopwords.words('english')"
   ]
  },
  {
   "cell_type": "markdown",
   "metadata": {},
   "source": [
    "### Prepare Data Sets for Feature Vectorization and Classification Models\n",
    "\n",
    "With these datasets the positve and negative results will be combined and the data needs to be shuffled since the positive and negative data is grouped together"
   ]
  },
  {
   "cell_type": "code",
   "execution_count": 7,
   "metadata": {},
   "outputs": [
    {
     "name": "stdout",
     "output_type": "stream",
     "text": [
      "25000\n",
      "25000\n"
     ]
    }
   ],
   "source": [
    "#Combine all the positive and negative reviews to end up with one training set and one testing set of 25,000 samples each\n",
    "reviews_train = []\n",
    "reviews_train_combined = reviews_train_pos_clean + reviews_train_neg_clean\n",
    "print(len(reviews_train_combined))\n",
    "\n",
    "reviews_test = []\n",
    "reviews_test_combined = reviews_test_pos_clean + reviews_test_neg_clean\n",
    "print(len(reviews_test_combined))"
   ]
  },
  {
   "cell_type": "code",
   "execution_count": 8,
   "metadata": {},
   "outputs": [
    {
     "name": "stdout",
     "output_type": "stream",
     "text": [
      "i could not agree less with the rating that was given to this movie and i believe this is a sample of how short minded most of spectators are all over the world really are you forgetting that cinema used to be a kind of art before some tycoons tried to make it only entertainment this movie is not entertainment at least not that easy entertainment you get on movies like titanic or gladiator it has style it is different it is shocking thats why most of you have hated it so much because it does not try to be pleasing to you its just a story a very weird one i admit but after all only a weird story it is not a great story not even a great cinema work but i believe it is worth a 7 stars rating only for the courage of both author and director to shot a story that is not made to please the audience thus selling billions of copies and making the big studios even richer this movie is for me european artistic like movie made in the us and everyone involved in the making of it deserves respect be it for the courage or be it for the unique sense of humor\n",
      "1\n",
      "i have to differ from the other comments posted amid sporadic funny moments there are a lot of actors trying too hard to be funny the strain shows i watched this with two friends on another friends recommendation  none of us were thrilled\n",
      "0\n"
     ]
    }
   ],
   "source": [
    "#Shuffle\n",
    "import random\n",
    "\n",
    "target = [1 if i < 12500 else 0 for i in range(25000)]\n",
    "\n",
    "c = list(zip(reviews_train_combined, target))\n",
    "random.shuffle(c)\n",
    "reviews_train, y_train = zip(*c)\n",
    "\n",
    "print(reviews_train[0])\n",
    "print(y_train[0])\n",
    "\n",
    "b = list(zip(reviews_test_combined, target))\n",
    "random.shuffle(b)\n",
    "reviews_test, y_test = zip(*b)\n",
    "\n",
    "print(reviews_test[0])\n",
    "print(y_test[0])"
   ]
  },
  {
   "cell_type": "code",
   "execution_count": null,
   "metadata": {},
   "outputs": [],
   "source": []
  },
  {
   "cell_type": "markdown",
   "metadata": {},
   "source": [
    "## Feature Vectorization (Count Vectorizer and TF-IDF)\n",
    "\n",
    "### Can use either the Unigram Vectorization Features, Bigram Vectorization Features, or TF-IDF Features in the Models"
   ]
  },
  {
   "cell_type": "code",
   "execution_count": 11,
   "metadata": {},
   "outputs": [
    {
     "name": "stdout",
     "output_type": "stream",
     "text": [
      "(25000, 92446)\n",
      "  (0, 18645)\t1\n",
      "  (0, 2990)\t1\n",
      "  (0, 47551)\t1\n",
      "  (0, 66450)\t2\n",
      "  (0, 34128)\t1\n",
      "  (0, 54694)\t4\n",
      "  (0, 8535)\t2\n",
      "  (0, 70811)\t1\n",
      "  (0, 73926)\t1\n",
      "  (0, 53098)\t1\n",
      "  (0, 76682)\t1\n",
      "  (0, 90851)\t1\n",
      "  (0, 66758)\t1\n",
      "  (0, 31595)\t1\n",
      "  (0, 15597)\t2\n",
      "  (0, 86845)\t1\n",
      "  (0, 45275)\t1\n",
      "  (0, 5644)\t1\n",
      "  (0, 84981)\t1\n",
      "  (0, 84225)\t1\n",
      "  (0, 50111)\t1\n",
      "  (0, 27148)\t3\n",
      "  (0, 47141)\t1\n",
      "  (0, 25589)\t1\n",
      "  (0, 33737)\t1\n",
      "  :\t:\n",
      "  (24999, 55028)\t1\n",
      "  (24999, 27932)\t1\n",
      "  (24999, 72707)\t1\n",
      "  (24999, 90956)\t1\n",
      "  (24999, 56446)\t1\n",
      "  (24999, 31787)\t1\n",
      "  (24999, 41)\t1\n",
      "  (24999, 51486)\t1\n",
      "  (24999, 91566)\t1\n",
      "  (24999, 2962)\t1\n",
      "  (24999, 88939)\t1\n",
      "  (24999, 82095)\t1\n",
      "  (24999, 26744)\t1\n",
      "  (24999, 71269)\t1\n",
      "  (24999, 83270)\t1\n",
      "  (24999, 41919)\t1\n",
      "  (24999, 17206)\t1\n",
      "  (24999, 32154)\t1\n",
      "  (24999, 12507)\t1\n",
      "  (24999, 79713)\t1\n",
      "  (24999, 74766)\t1\n",
      "  (24999, 67961)\t1\n",
      "  (24999, 74803)\t1\n",
      "  (24999, 79703)\t1\n",
      "  (24999, 3800)\t1\n"
     ]
    }
   ],
   "source": [
    "#Feature Vectorization (Unigram)\n",
    "from sklearn.feature_extraction.text import CountVectorizer\n",
    "\n",
    "#stop_words parameter: If ‘english’, a built-in stop word list for English is used. There are several known issues with ‘english’ and you should consider an alternative (see Using stop words).\n",
    "#ngram_range parameter: The lower and upper boundary of the range of n-values for different word n-grams or char n-grams to be extracted\n",
    "#max_features parameter: Max number of features\n",
    "vectorizer = CountVectorizer(stop_words = stop_words, ngram_range = (1,1), max_features = None)\n",
    "\n",
    "X_train_counts = vectorizer.fit_transform(reviews_train)\n",
    "X_test_counts = vectorizer.transform(reviews_test)\n",
    "\n",
    "print(X_train_counts.shape)\n",
    "print(X_train_counts)\n",
    "#print(vectorizer.get_feature_names())"
   ]
  },
  {
   "cell_type": "code",
   "execution_count": 151,
   "metadata": {},
   "outputs": [
    {
     "name": "stdout",
     "output_type": "stream",
     "text": [
      "(25000, 1913493)\n",
      "  (0, 759523)\t1\n",
      "  (0, 769650)\t2\n",
      "  (0, 154505)\t2\n",
      "  (0, 1141979)\t1\n",
      "  (0, 1020591)\t1\n",
      "  (0, 1315423)\t1\n",
      "  (0, 54480)\t1\n",
      "  (0, 442194)\t1\n",
      "  (0, 124949)\t1\n",
      "  (0, 154491)\t1\n",
      "  (0, 154498)\t1\n",
      "  (0, 901511)\t1\n",
      "  (0, 958393)\t1\n",
      "  (0, 887534)\t1\n",
      "  (0, 951819)\t1\n",
      "  (0, 780990)\t1\n",
      "  (0, 1177158)\t1\n",
      "  (0, 1772390)\t1\n",
      "  (0, 670787)\t1\n",
      "  (0, 1549139)\t1\n",
      "  (0, 333886)\t1\n",
      "  (0, 828302)\t1\n",
      "  (0, 580464)\t1\n",
      "  (0, 678009)\t1\n",
      "  (0, 1886510)\t1\n",
      "  :\t:\n",
      "  (24999, 390106)\t1\n",
      "  (24999, 642986)\t1\n",
      "  (24999, 1303703)\t1\n",
      "  (24999, 1720974)\t1\n",
      "  (24999, 709243)\t1\n",
      "  (24999, 994394)\t1\n",
      "  (24999, 700960)\t1\n",
      "  (24999, 804957)\t1\n",
      "  (24999, 67308)\t1\n",
      "  (24999, 389341)\t1\n",
      "  (24999, 1599783)\t1\n",
      "  (24999, 188738)\t1\n",
      "  (24999, 780850)\t1\n",
      "  (24999, 1873917)\t1\n",
      "  (24999, 1341322)\t1\n",
      "  (24999, 785122)\t1\n",
      "  (24999, 1769828)\t1\n",
      "  (24999, 1341335)\t1\n",
      "  (24999, 1448226)\t1\n",
      "  (24999, 1745403)\t1\n",
      "  (24999, 763733)\t1\n",
      "  (24999, 1700280)\t1\n",
      "  (24999, 1252770)\t1\n",
      "  (24999, 1474185)\t1\n",
      "  (24999, 1208891)\t1\n"
     ]
    }
   ],
   "source": [
    "#Feature Vectorization (Bigram)\n",
    "vectorizer_bigram = CountVectorizer(stop_words = stop_words, ngram_range=(1,2), max_features = None)\n",
    "\n",
    "X_train_counts_bigram = vectorizer_bigram.fit_transform(reviews_train)\n",
    "X_test_counts_bigram = vectorizer_bigram.transform(reviews_test)\n",
    "\n",
    "print(X_train_counts_bigram.shape)\n",
    "print(X_train_counts_bigram)\n",
    "#print(vectorizer_bigram.get_feature_names())"
   ]
  },
  {
   "cell_type": "code",
   "execution_count": 12,
   "metadata": {},
   "outputs": [
    {
     "name": "stdout",
     "output_type": "stream",
     "text": [
      "(25000, 92446)\n",
      "  (0, 90943)\t0.07328749921579077\n",
      "  (0, 90851)\t0.06727156227380233\n",
      "  (0, 90788)\t0.06243552368356276\n",
      "  (0, 89331)\t0.20084939332409238\n",
      "  (0, 86845)\t0.07820351357859291\n",
      "  (0, 86826)\t0.066309502421642\n",
      "  (0, 86046)\t0.10035162976848783\n",
      "  (0, 84981)\t0.18790452383602432\n",
      "  (0, 84537)\t0.07813995797545538\n",
      "  (0, 84225)\t0.09619528127463074\n",
      "  (0, 82910)\t0.1416677904868482\n",
      "  (0, 82521)\t0.10903031943021374\n",
      "  (0, 81732)\t0.06534800457359102\n",
      "  (0, 78822)\t0.0824957000235783\n",
      "  (0, 78700)\t0.12440209053616744\n",
      "  (0, 78250)\t0.1846696584234594\n",
      "  (0, 77588)\t0.08061532241074959\n",
      "  (0, 76682)\t0.1711013313867363\n",
      "  (0, 73965)\t0.07772523744086643\n",
      "  (0, 73926)\t0.07958454052811809\n",
      "  (0, 73834)\t0.11369845816957933\n",
      "  (0, 72707)\t0.07449029767646681\n",
      "  (0, 72611)\t0.13220384536103125\n",
      "  (0, 70811)\t0.1655803360994713\n",
      "  (0, 68872)\t0.16726469434369506\n",
      "  :\t:\n",
      "  (24999, 82095)\t0.09926392955494476\n",
      "  (24999, 79713)\t0.21500380482407008\n",
      "  (24999, 79703)\t0.4097867722887967\n",
      "  (24999, 74803)\t0.28107373415972453\n",
      "  (24999, 74766)\t0.29312086293271666\n",
      "  (24999, 72707)\t0.1390317323035647\n",
      "  (24999, 71269)\t0.12594185023209611\n",
      "  (24999, 67961)\t0.2283294816476854\n",
      "  (24999, 56446)\t0.10238779110286218\n",
      "  (24999, 55028)\t0.08889480591521216\n",
      "  (24999, 54694)\t0.11758932550878415\n",
      "  (24999, 51486)\t0.13965405816228246\n",
      "  (24999, 47949)\t0.06929783310062117\n",
      "  (24999, 45275)\t0.13312554772898438\n",
      "  (24999, 41919)\t0.193320775762803\n",
      "  (24999, 32154)\t0.18882719824538405\n",
      "  (24999, 31787)\t0.1340970876882693\n",
      "  (24999, 27932)\t0.08223071371074465\n",
      "  (24999, 26744)\t0.10652331603114942\n",
      "  (24999, 22622)\t0.13965405816228246\n",
      "  (24999, 17206)\t0.14620055582985633\n",
      "  (24999, 12507)\t0.17954279969625878\n",
      "  (24999, 3800)\t0.4097867722887967\n",
      "  (24999, 2962)\t0.16726444347936872\n",
      "  (24999, 41)\t0.11857223044074806\n"
     ]
    }
   ],
   "source": [
    "#Feature Vectorization (TF-IDF)\n",
    "from sklearn.feature_extraction.text import TfidfTransformer \n",
    "tfidf_transformer = TfidfTransformer()\n",
    "\n",
    "X_train_tfidf = tfidf_transformer.fit_transform(X_train_counts)\n",
    "X_test_tfidf = tfidf_transformer.transform(X_test_counts)\n",
    "\n",
    "print(X_train_tfidf.shape)\n",
    "print(X_train_tfidf)"
   ]
  },
  {
   "cell_type": "markdown",
   "metadata": {},
   "source": [
    "# Build the Classifier Models\n",
    "\n"
   ]
  },
  {
   "cell_type": "code",
   "execution_count": 13,
   "metadata": {},
   "outputs": [],
   "source": [
    "X_train = reviews_train\n",
    "X_test = reviews_test\n"
   ]
  },
  {
   "cell_type": "code",
   "execution_count": 131,
   "metadata": {},
   "outputs": [],
   "source": [
    "#from sklearn.model_selection import train_test_split\n",
    "\n",
    "#target = [1 if i < 12500 else 0 for i in range(25000)]\n",
    "#X_train, X_val, y_train, y_val = train_test_split(X_train_counts, target, train_size=0.8, test_size = 0.2)\n",
    "\n",
    "#print(X_train.shape)\n",
    "#print(X_val.shape)\n",
    "#print(X_val.dtype)"
   ]
  },
  {
   "cell_type": "markdown",
   "metadata": {},
   "source": [
    "## Build a Pipeline for Cross Validation\n",
    "\n",
    "A pipeline for cross validation"
   ]
  },
  {
   "cell_type": "code",
   "execution_count": 15,
   "metadata": {},
   "outputs": [],
   "source": [
    "from sklearn.pipeline import Pipeline\n",
    "from sklearn.model_selection import cross_val_score\n",
    "from sklearn.model_selection import GridSearchCV\n",
    "from sklearn import metrics\n",
    "from nltk.corpus import stopwords\n",
    "\n",
    "stop_words = stopwords.words('english')"
   ]
  },
  {
   "cell_type": "markdown",
   "metadata": {},
   "source": [
    "## Logistic Regression"
   ]
  },
  {
   "cell_type": "code",
   "execution_count": 145,
   "metadata": {},
   "outputs": [
    {
     "name": "stdout",
     "output_type": "stream",
     "text": [
      "scores: [0.89052 0.89052 0.89052 0.89052 0.878   0.8774  0.87748 0.87684 0.89052\n",
      " 0.89052 0.89052 0.89052 0.878   0.8774  0.87748 0.87684]\n",
      "scores_std [0.00677005 0.00682536 0.00682536 0.00682536 0.00580483 0.00600133\n",
      " 0.00593781 0.00592405 0.00677005 0.00682536 0.00682536 0.00682536\n",
      " 0.00580483 0.00600133 0.00593781 0.00592405]\n",
      "Best score: 0.891\n",
      "\n",
      " Best Parameter Values: \n",
      "clf__max_iter: 5000\n",
      "clf__penalty: 'l2'\n",
      "clf__tol: 0.1\n"
     ]
    }
   ],
   "source": [
    "from sklearn.linear_model import LogisticRegression\n",
    "\n",
    "pipeline = Pipeline([ \n",
    "    ('vectorizer', CountVectorizer(stop_words = stop_words, ngram_range = (1,1), max_features = None)),\n",
    "    ('tfidf', TfidfTransformer()),\n",
    "    ('clf', LogisticRegression())\n",
    "])\n",
    "\n",
    "#Tol parameter:Tolerance for stopping criteria\n",
    "#penalty parameter:Used to specify the norm used in the penalization\n",
    "#max_iter parameter: Maximum number of iterations\n",
    "parameters = {'clf__tol': [1e-1, 1e-2, 1e-3, 1e-4],\n",
    "             'clf__penalty': ['l2','none'],\n",
    "             'clf__max_iter': [5000 , 10000]}\n",
    "n_folds = 5\n",
    "\n",
    "LR_GridSearch = GridSearchCV(pipeline, param_grid = parameters, cv=n_folds)\n",
    "LR_GridSearch.fit(X_train, y_train)\n",
    "\n",
    "scores = LR_GridSearch.cv_results_['mean_test_score']\n",
    "scores_std = LR_GridSearch.cv_results_['std_test_score']\n",
    "\n",
    "print('scores:',scores)\n",
    "print('scores_std',scores_std)\n",
    "\n",
    "print(\"Best score: %0.3f\" % LR_GridSearch.best_score_)\n",
    "\n",
    "print(\"\\n Best Parameter Values: \")\n",
    "for param_name in sorted(parameters.keys()):\n",
    "    print(\"%s: %r\" % (param_name, LR_GridSearch.best_params_[param_name]))"
   ]
  },
  {
   "cell_type": "code",
   "execution_count": 30,
   "metadata": {
    "scrolled": true
   },
   "outputs": [
    {
     "name": "stdout",
     "output_type": "stream",
     "text": [
      "Predicted:  [1 0 1 ... 1 0 0]\n",
      "Accuracy:  88.356 %\n"
     ]
    }
   ],
   "source": [
    "pipeline = Pipeline([ \n",
    "    ('vectorizer', CountVectorizer(stop_words = stop_words, ngram_range = (1,1), max_features = None)),\n",
    "    ('tfidf', TfidfTransformer()),\n",
    "    ('clf', LogisticRegression(penalty = 'l2', max_iter = 5000, tol = 0.1))\n",
    "])\n",
    "\n",
    "pipeline.fit(X_train, y_train)\n",
    "y_predLR = pipeline.predict(X_test)\n",
    "\n",
    "print(\"Predicted: \", y_predLR)\n",
    "\n",
    "print(\"Accuracy: \", metrics.accuracy_score(y_test, y_predLR)*100, \"%\")"
   ]
  },
  {
   "cell_type": "markdown",
   "metadata": {},
   "source": [
    "### Check Which Features (Words) Were the Most Valuable for Classification as Positive or Negative"
   ]
  },
  {
   "cell_type": "code",
   "execution_count": 160,
   "metadata": {},
   "outputs": [
    {
     "name": "stdout",
     "output_type": "stream",
     "text": [
      "Words most likely indicating a positive review: \n",
      "('refreshing', 1.558712325539741)\n",
      "('wonderfully', 1.4214318445281702)\n",
      "('funniest', 1.3335419722584247)\n",
      "('excellent', 1.3253144626938196)\n",
      "('carrey', 1.3021620530940534)\n",
      "('superb', 1.2755716549364426)\n",
      "('erotic', 1.2664319378843476)\n",
      "('hooked', 1.263875257003722)\n",
      "('perfect', 1.2590444151231048)\n",
      "('flawless', 1.2420551621674847)\n",
      "\n",
      " Words most likely indicating a negative review: \n",
      "('waste', -2.2086958379845782)\n",
      "('worst', -2.191426425173892)\n",
      "('disappointment', -2.190959143495129)\n",
      "('poorly', -1.781222590287594)\n",
      "('awful', -1.6733369271714202)\n",
      "('lacks', -1.5985487439587867)\n",
      "('disappointing', -1.4659832755092597)\n",
      "('fails', -1.4207493927091577)\n",
      "('forgettable', -1.3928130423620992)\n",
      "('mess', -1.3856206542055973)\n"
     ]
    }
   ],
   "source": [
    "clf_LR = LogisticRegression(penalty = 'l2', max_iter = 5000, tol = 0.1)\n",
    "clf_LR.fit(X_train_counts, y_train)\n",
    "pred = clf_LR.predict(X_test_counts)\n",
    "\n",
    "feature_to_coef = {word: coef for word, coef in zip(vectorizer.get_feature_names(), clf_LR.coef_[0])}\n",
    "\n",
    "print(\"Words most likely indicating a positive review: \")\n",
    "for most_positive in sorted(feature_to_coef.items(), key=lambda x: x[1], reverse=True)[:10]:\n",
    "    print (most_positive)\n",
    "  \n",
    "print(\"\\n Words most likely indicating a negative review: \")\n",
    "for most_negative in sorted(feature_to_coef.items(), key=lambda x: x[1])[:10]:\n",
    "    print (most_negative)"
   ]
  },
  {
   "cell_type": "markdown",
   "metadata": {},
   "source": [
    "### Multinomial Naive Bayes\n"
   ]
  },
  {
   "cell_type": "code",
   "execution_count": 167,
   "metadata": {},
   "outputs": [
    {
     "name": "stdout",
     "output_type": "stream",
     "text": [
      "scores: [0.86512 0.86432 0.86364 0.86168]\n",
      "scores_std [0.00627069 0.00635182 0.00739665 0.00699211]\n",
      "Best score: 0.865\n",
      "\n",
      " Best Parameter Values: \n",
      "clf__alpha: 1\n"
     ]
    }
   ],
   "source": [
    "from sklearn.naive_bayes import MultinomialNB\n",
    "\n",
    "pipelineMNB = Pipeline([ \n",
    "    ('vectorizer', CountVectorizer(stop_words = stop_words, ngram_range = (1,1), max_features = None)),\n",
    "    ('tfidf', TfidfTransformer()),\n",
    "    ('clf', MultinomialNB())\n",
    "])\n",
    "\n",
    "#alpha parameter: Additive (Laplace/Lidstone) smoothing parameter (0 for no smoothing)\n",
    "parameters = {'clf__alpha': [1, 0.5, 0.2, 0.1]}\n",
    "n_folds = 5\n",
    "\n",
    "\n",
    "MNB_GridSearch = GridSearchCV(pipelineMNB, param_grid = parameters, cv=n_folds)\n",
    "MNB_GridSearch.fit(X_train, y_train)\n",
    "\n",
    "scores = MNB_GridSearch.cv_results_['mean_test_score']\n",
    "scores_std = MNB_GridSearch.cv_results_['std_test_score']\n",
    "\n",
    "print('scores:',scores)\n",
    "print('scores_std',scores_std)\n",
    "\n",
    "print(\"Best score: %0.3f\" % MNB_GridSearch.best_score_)\n",
    "\n",
    "print(\"\\n Best Parameter Values: \")\n",
    "for param_name in sorted(parameters.keys()):\n",
    "    print(\"%s: %r\" % (param_name, MNB_GridSearch.best_params_[param_name]))"
   ]
  },
  {
   "cell_type": "code",
   "execution_count": 168,
   "metadata": {},
   "outputs": [
    {
     "name": "stdout",
     "output_type": "stream",
     "text": [
      "Predicted:  [1 0 1 ... 0 1 0]\n",
      "Accuracy:  83.256 %\n"
     ]
    }
   ],
   "source": [
    "pipelineMNB = Pipeline([ \n",
    "    ('vectorizer', CountVectorizer(stop_words = stop_words, ngram_range = (1,1), max_features = None)),\n",
    "    ('tfidf', TfidfTransformer()),\n",
    "    ('clf', MultinomialNB(alpha = 1))\n",
    "])\n",
    "\n",
    "pipelineMNB.fit(X_train, y_train)\n",
    "y_predMNB = pipelineMNB.predict(X_test)\n",
    "\n",
    "print(\"Predicted: \", y_predMNB)\n",
    "\n",
    "print(\"Accuracy: \", metrics.accuracy_score(y_test, y_predMNB)*100, \"%\")"
   ]
  },
  {
   "cell_type": "markdown",
   "metadata": {},
   "source": [
    "### SGDClassifier"
   ]
  },
  {
   "cell_type": "code",
   "execution_count": 170,
   "metadata": {},
   "outputs": [
    {
     "name": "stdout",
     "output_type": "stream",
     "text": [
      "scores: [0.57408 0.63924 0.56332 0.6144  0.54996 0.5636  0.60924 0.75948 0.68088\n",
      " 0.81892 0.81924 0.8144  0.84856 0.84864 0.84972 0.84604 0.84672 0.84676\n",
      " 0.89396 0.89356 0.8938  0.88492 0.88468 0.8848 ]\n",
      "scores_std [0.10082798 0.10301685 0.08652154 0.10621006 0.06222956 0.06732429\n",
      " 0.12514883 0.10696883 0.10847478 0.00943576 0.0118763  0.01478973\n",
      " 0.00615194 0.00656219 0.00732186 0.00873833 0.00853941 0.00899902\n",
      " 0.00511218 0.0052374  0.00557566 0.00674045 0.00717841 0.00676225]\n",
      "Best score: 0.894\n",
      "\n",
      " Best Parameter Values: \n",
      "clf__alpha: 0.0001\n",
      "clf__loss: 'hinge'\n",
      "clf__max_iter: 60\n",
      "clf__penalty: 'l2'\n"
     ]
    }
   ],
   "source": [
    "from sklearn.linear_model import SGDClassifier\n",
    "\n",
    "pipelineSGD = Pipeline([ \n",
    "    ('vectorizer', CountVectorizer(stop_words = stop_words, ngram_range = (1,1), max_features = None)),\n",
    "    ('tfidf', TfidfTransformer()),\n",
    "    ('clf', SGDClassifier())\n",
    "])\n",
    "\n",
    "#loss parameter:The loss function to be used\n",
    "#penalty parameter:The penalty (aka regularization term) to be used\n",
    "#alpha parameter:Constant that multiplies the regularization term\n",
    "#max_iter parameter:The maximum number of passes over the training data (aka epochs)\n",
    "parameters = {'clf__loss': ['hinge', 'log'],\n",
    "             'clf__penalty': ['l2'],\n",
    "             'clf__alpha': [1e-1, 1e-2, 1e-3, 1e-4],\n",
    "             'clf__max_iter': [60, 80, 100]}\n",
    "n_folds = 5\n",
    "\n",
    "\n",
    "SGD_GridSearch = GridSearchCV(pipelineSGD, param_grid = parameters, cv=n_folds)\n",
    "SGD_GridSearch.fit(X_train, y_train)\n",
    "\n",
    "scores = SGD_GridSearch.cv_results_['mean_test_score']\n",
    "scores_std = SGD_GridSearch.cv_results_['std_test_score']\n",
    "\n",
    "print('scores:',scores)\n",
    "print('scores_std',scores_std)\n",
    "\n",
    "print(\"Best score: %0.3f\" % SGD_GridSearch.best_score_)\n",
    "\n",
    "print(\"\\n Best Parameter Values: \")\n",
    "for param_name in sorted(parameters.keys()):\n",
    "    print(\"%s: %r\" % (param_name, SGD_GridSearch.best_params_[param_name]))\n"
   ]
  },
  {
   "cell_type": "code",
   "execution_count": 171,
   "metadata": {},
   "outputs": [
    {
     "name": "stdout",
     "output_type": "stream",
     "text": [
      "Predicted:  [1 0 1 ... 0 1 0]\n",
      "Accuracy:  88.412 %\n"
     ]
    }
   ],
   "source": [
    "pipelineSGD = Pipeline([ \n",
    "    ('vectorizer', CountVectorizer(stop_words = stop_words, ngram_range = (1,1), max_features = None)),\n",
    "    ('tfidf', TfidfTransformer()),\n",
    "    ('clf', SGDClassifier(loss='hinge', penalty='l2', alpha=1e-4, max_iter=60))\n",
    "])\n",
    "\n",
    "pipelineSGD.fit(X_train, y_train)\n",
    "\n",
    "y_predSGD = pipelineSGD.predict(X_test)\n",
    "print(\"Predicted: \", y_predSGD)\n",
    "\n",
    "print(\"Accuracy: \", metrics.accuracy_score(y_test, y_predSGD)*100, \"%\")"
   ]
  },
  {
   "cell_type": "markdown",
   "metadata": {},
   "source": [
    "### Decision Tree Classifier"
   ]
  },
  {
   "cell_type": "code",
   "execution_count": 172,
   "metadata": {},
   "outputs": [
    {
     "name": "stdout",
     "output_type": "stream",
     "text": [
      "scores: [0.64144 0.59288 0.71588 0.53996 0.50488 0.68948 0.56188 0.516   0.72684\n",
      " 0.60992 0.5272  0.73156 0.64988 0.54432 0.7256  0.65124 0.59148 0.71412\n",
      " 0.54072 0.5144  0.68596 0.56668 0.51464 0.71692 0.61964 0.52868 0.72452\n",
      " 0.65704 0.55192 0.72052]\n",
      "scores_std [0.01215    0.00664    0.00077563 0.01130904 0.00286384 0.00650243\n",
      " 0.00529694 0.00917126 0.00223571 0.02254333 0.01610615 0.00362083\n",
      " 0.01346795 0.01732263 0.00473455 0.0123867  0.01267413 0.00409409\n",
      " 0.00816882 0.00837138 0.00677926 0.01277097 0.00790686 0.00554343\n",
      " 0.0182592  0.01802114 0.00350451 0.01393092 0.00409018 0.00310252]\n",
      "Best score: 0.732\n",
      "\n",
      " Best Parameter Values: \n",
      "clf__criterion: 'gini'\n",
      "clf__max_depth: 20\n",
      "clf__max_features: None\n"
     ]
    }
   ],
   "source": [
    "from sklearn.tree import DecisionTreeClassifier\n",
    "\n",
    "pipeline_tree = Pipeline([ \n",
    "    ('vectorizer', CountVectorizer(stop_words = stop_words, ngram_range = (1,1), max_features = None)),\n",
    "    ('tfidf', TfidfTransformer()),\n",
    "    ('clf', DecisionTreeClassifier())\n",
    "])\n",
    "\n",
    "#criterion parameter:The function to measure the quality of a split.\n",
    "#max_depth parameter:The maximum depth of the tree. \n",
    "#max_features parameter:The number of features to consider when looking for the best split. If “sqrt”, then max_features=sqrt(n_features). If “log2”, then max_features=log2(n_features).\n",
    "parameters = {'clf__criterion': ['gini', 'entropy'],\n",
    "             'clf__max_depth': [None, 5, 10, 20, 50],\n",
    "             'clf__max_features': ['sqrt', 'log2', None]}\n",
    "n_folds = 5\n",
    "\n",
    "\n",
    "tree_GridSearch = GridSearchCV(pipeline_tree, param_grid = parameters, cv=n_folds)\n",
    "tree_GridSearch.fit(X_train, y_train)\n",
    "\n",
    "scores = tree_GridSearch.cv_results_['mean_test_score']\n",
    "scores_std = tree_GridSearch.cv_results_['std_test_score']\n",
    "\n",
    "print('scores:',scores)\n",
    "print('scores_std',scores_std)\n",
    "\n",
    "print(\"Best score: %0.3f\" % tree_GridSearch.best_score_)\n",
    "\n",
    "print(\"\\n Best Parameter Values: \")\n",
    "for param_name in sorted(parameters.keys()):\n",
    "    print(\"%s: %r\" % (param_name, tree_GridSearch.best_params_[param_name]))"
   ]
  },
  {
   "cell_type": "code",
   "execution_count": 31,
   "metadata": {},
   "outputs": [
    {
     "name": "stdout",
     "output_type": "stream",
     "text": [
      "Predicted:  [1 1 1 ... 1 1 1]\n",
      "Accuracy:  73.42 %\n"
     ]
    }
   ],
   "source": [
    "from sklearn.tree import DecisionTreeClassifier\n",
    "\n",
    "pipeline_tree = Pipeline([ \n",
    "    ('vectorizer', CountVectorizer(stop_words = stop_words, ngram_range = (1,1), max_features = None)),\n",
    "    ('tfidf', TfidfTransformer()),\n",
    "    ('clf', DecisionTreeClassifier(criterion ='gini', max_depth = 20, max_features = None))\n",
    "])\n",
    "\n",
    "\n",
    "pipeline_tree.fit(X_train, y_train)\n",
    "\n",
    "y_pred_tree = pipeline_tree.predict(X_test)\n",
    "print(\"Predicted: \", y_pred_tree)\n",
    "\n",
    "print(\"Accuracy: \", metrics.accuracy_score(y_test, y_pred_tree)*100, \"%\")"
   ]
  },
  {
   "cell_type": "markdown",
   "metadata": {},
   "source": [
    "### Support Vector Machines"
   ]
  },
  {
   "cell_type": "code",
   "execution_count": 174,
   "metadata": {},
   "outputs": [
    {
     "name": "stdout",
     "output_type": "stream",
     "text": [
      "scores: [0.89176 0.8916  0.8916  0.8916  0.89164 0.89156 0.8916  0.8916  0.8918\n",
      " 0.8916  0.8916  0.8916  0.89376 0.8938  0.89364 0.89364 0.89372 0.89372\n",
      " 0.89364 0.89364 0.89376 0.8936  0.89364 0.89364]\n",
      "scores_std [0.00634022 0.00652748 0.00652748 0.00652748 0.00643416 0.00644906\n",
      " 0.00652748 0.00652748 0.00643988 0.00652748 0.00652748 0.00652748\n",
      " 0.00532977 0.00515364 0.00526938 0.00526938 0.0050811  0.00524382\n",
      " 0.00526938 0.00526938 0.00530117 0.00525357 0.00526938 0.00526938]\n",
      "Best score: 0.894\n",
      "\n",
      " Best Parameter Values: \n",
      "clf__C: 0.5\n",
      "clf__max_iter: 1000\n",
      "clf__penalty: 'l2'\n",
      "clf__tol: 0.01\n"
     ]
    }
   ],
   "source": [
    "from sklearn.svm import LinearSVC\n",
    "\n",
    "pipelineSVM = Pipeline([ \n",
    "    ('vectorizer', CountVectorizer(stop_words = stop_words, ngram_range = (1,1), max_features = None)),\n",
    "    ('tfidf', TfidfTransformer()),\n",
    "    ('clf', LinearSVC())\n",
    "])\n",
    "\n",
    "#penalty parameter:Specifies the norm used in the penalization\n",
    "#tol parameter:Tolerance for stopping criteria.\n",
    "#C parameter: Regularization parameter. The strength of the regularization is inversely proportional to C.\n",
    "#max_iter parameter:The maximum number of iterations to be run\n",
    "parameters = {'clf__penalty': ['l2'],\n",
    "             'clf__tol': [1e-1, 1e-2, 1e-3, 1e-4],\n",
    "              'clf__C': [1.0, 0.5],\n",
    "             'clf__max_iter': [1000, 1500, 2000]}\n",
    "n_folds = 5\n",
    "\n",
    "\n",
    "SVM_GridSearch = GridSearchCV(pipelineSVM, param_grid = parameters, cv=n_folds)\n",
    "SVM_GridSearch.fit(X_train, y_train)\n",
    "\n",
    "scores = SVM_GridSearch.cv_results_['mean_test_score']\n",
    "scores_std = SVM_GridSearch.cv_results_['std_test_score']\n",
    "\n",
    "print('scores:',scores)\n",
    "print('scores_std',scores_std)\n",
    "\n",
    "print(\"Best score: %0.3f\" % SVM_GridSearch.best_score_)\n",
    "\n",
    "print(\"\\n Best Parameter Values: \")\n",
    "for param_name in sorted(parameters.keys()):\n",
    "    print(\"%s: %r\" % (param_name, SVM_GridSearch.best_params_[param_name]))"
   ]
  },
  {
   "cell_type": "code",
   "execution_count": 32,
   "metadata": {},
   "outputs": [
    {
     "name": "stdout",
     "output_type": "stream",
     "text": [
      "Predicted:  [1 0 1 ... 1 0 0]\n",
      "Accuracy:  87.764 %\n"
     ]
    }
   ],
   "source": [
    "from sklearn.svm import LinearSVC\n",
    "\n",
    "pipelineSVM = Pipeline([ \n",
    "    ('vectorizer', CountVectorizer(stop_words = stop_words, ngram_range = (1,1), max_features = None)),\n",
    "    ('tfidf', TfidfTransformer()),\n",
    "    ('clf', LinearSVC(C = 0.5, max_iter = 1000, penalty = 'l2', tol = 0.01))\n",
    "])\n",
    "\n",
    "\n",
    "pipelineSVM.fit(X_train, y_train)\n",
    "\n",
    "y_predSVM = pipelineSVM.predict(X_test)\n",
    "print(\"Predicted: \", y_predSVM)\n",
    "\n",
    "print(\"Accuracy: \", metrics.accuracy_score(y_test, y_predSVM)*100, \"%\")"
   ]
  },
  {
   "cell_type": "markdown",
   "metadata": {},
   "source": [
    "### Adaboost"
   ]
  },
  {
   "cell_type": "code",
   "execution_count": 178,
   "metadata": {},
   "outputs": [
    {
     "name": "stdout",
     "output_type": "stream",
     "text": [
      "scores: [0.69212 0.7328  0.76496 0.78244 0.793   0.76868 0.79584 0.823   0.8358\n",
      " 0.84272 0.77024 0.79868 0.82196 0.83292 0.83636]\n",
      "scores_std [0.00822153 0.01006062 0.01112503 0.0078398  0.00699486 0.00963377\n",
      " 0.00793615 0.00792868 0.00649061 0.00485568 0.00729646 0.00817274\n",
      " 0.008731   0.00753297 0.00769041]\n",
      "Best score: 0.843\n",
      "\n",
      " Best Parameter Values: \n",
      "clf__base_estimator: None\n",
      "clf__learning_rate: 0.5\n",
      "clf__n_estimators: 200\n"
     ]
    }
   ],
   "source": [
    "from sklearn.ensemble import AdaBoostClassifier\n",
    "\n",
    "pipelineADA = Pipeline([ \n",
    "    ('vectorizer', CountVectorizer(stop_words = stop_words, ngram_range = (1,1), max_features = None)),\n",
    "    ('tfidf', TfidfTransformer()),\n",
    "    ('clf', AdaBoostClassifier())\n",
    "])\n",
    "\n",
    "#base_estimator parameter: The base estimator from which the boosted ensemble is built.\n",
    "#n_estimators: The maximum number of estimators at which boosting is terminated. In case of perfect fit, the learning procedure is stopped early.\n",
    "#learning_rate:Learning rate shrinks the contribution of each classifier by learning_rate. There is a trade-off between learning_rate and n_estimators.\n",
    "parameters = {'clf__base_estimator': [None],\n",
    "              'clf__n_estimators': [25, 50, 100, 150, 200],\n",
    "             'clf__learning_rate': [0.1, 0.5, 1]}\n",
    "n_folds = 5\n",
    "\n",
    "Ada_GridSearch = GridSearchCV(pipelineADA, param_grid = parameters, cv=n_folds)\n",
    "Ada_GridSearch.fit(X_train, y_train)\n",
    "\n",
    "scores = Ada_GridSearch.cv_results_['mean_test_score']\n",
    "scores_std = Ada_GridSearch.cv_results_['std_test_score']\n",
    "\n",
    "print('scores:',scores)\n",
    "print('scores_std',scores_std)\n",
    "\n",
    "print(\"Best score: %0.3f\" % Ada_GridSearch.best_score_)\n",
    "\n",
    "print(\"\\n Best Parameter Values: \")\n",
    "for param_name in sorted(parameters.keys()):\n",
    "    print(\"%s: %r\" % (param_name, Ada_GridSearch.best_params_[param_name]))"
   ]
  },
  {
   "cell_type": "code",
   "execution_count": 20,
   "metadata": {},
   "outputs": [
    {
     "name": "stdout",
     "output_type": "stream",
     "text": [
      "Predicted:  [1 0 1 ... 1 0 0]\n",
      "Accuracy:  86.16 %\n"
     ]
    }
   ],
   "source": [
    "from sklearn.ensemble import AdaBoostClassifier\n",
    "pipelineADA = Pipeline([ \n",
    "    ('vectorizer', CountVectorizer(stop_words = stop_words, ngram_range = (1,1), max_features = None)),\n",
    "    ('tfidf', TfidfTransformer()),\n",
    "    ('clf', AdaBoostClassifier(base_estimator = None, n_estimators = 500, learning_rate = 0.5))\n",
    "])\n",
    "\n",
    "pipelineADA.fit(X_train, y_train)\n",
    "\n",
    "y_pred_Ada = pipelineADA.predict(X_test)\n",
    "print(\"Predicted: \", y_pred_Ada)\n",
    "\n",
    "print(\"Accuracy: \", metrics.accuracy_score(y_test, y_pred_Ada)*100, \"%\")"
   ]
  },
  {
   "cell_type": "markdown",
   "metadata": {},
   "source": [
    "### Random Forest"
   ]
  },
  {
   "cell_type": "code",
   "execution_count": 180,
   "metadata": {},
   "outputs": [
    {
     "name": "stdout",
     "output_type": "stream",
     "text": [
      "scores: [0.83108 0.84012 0.84596 0.79868 0.8174  0.82524 0.79752 0.79904 0.80056\n",
      " 0.80328 0.81616 0.82348 0.66908 0.69864 0.71348 0.74368 0.74184 0.7446\n",
      " 0.8214  0.8358  0.83824 0.71244 0.73092 0.75168 0.77724 0.77576 0.77648\n",
      " 0.8384  0.84508 0.84956 0.80632 0.82168 0.83212 0.79716 0.79996 0.8004\n",
      " 0.80736 0.81984 0.82024 0.68244 0.7068  0.71092 0.74192 0.74184 0.74136\n",
      " 0.82484 0.83068 0.8356  0.72252 0.74396 0.75672 0.77792 0.77568 0.77656\n",
      " 0.83672 0.8496  0.85084 0.80876 0.8244  0.83632 0.72756 0.72748 0.72832\n",
      " 0.8084  0.8216  0.82124 0.695   0.7084  0.72904 0.72704 0.72704 0.72724\n",
      " 0.82628 0.83256 0.84028 0.72416 0.74404 0.76832 0.73412 0.73424 0.73348\n",
      " 0.84788 0.84996 0.8536  0.8104  0.82892 0.839   0.73028 0.73112 0.73076\n",
      " 0.8078  0.81616 0.82344 0.69452 0.69748 0.7334  0.7174  0.7176  0.71772\n",
      " 0.8302  0.83448 0.83824 0.73068 0.74196 0.75952 0.73064 0.73056 0.72948]\n",
      "scores_std [0.00988704 0.00817469 0.00895625 0.00977965 0.00937742 0.00754337\n",
      " 0.00575027 0.00784286 0.00764136 0.00647531 0.00536865 0.00724939\n",
      " 0.01079748 0.0088944  0.00971811 0.00711685 0.00423207 0.00656415\n",
      " 0.0057855  0.00692127 0.00790686 0.0127244  0.01473912 0.01365436\n",
      " 0.00663494 0.00691132 0.00977065 0.00601465 0.01053345 0.00746126\n",
      " 0.00812463 0.0080026  0.00865573 0.00608658 0.00619342 0.00437813\n",
      " 0.0087621  0.00832673 0.00672119 0.0236827  0.01257108 0.0116726\n",
      " 0.00503365 0.00491105 0.0053057  0.01006173 0.01225633 0.00767854\n",
      " 0.01247115 0.00953595 0.01826454 0.00867788 0.00862981 0.00844976\n",
      " 0.00961715 0.00764513 0.01002748 0.00704205 0.00340353 0.00808614\n",
      " 0.00243113 0.00283859 0.00276724 0.01155162 0.00489735 0.00921512\n",
      " 0.01466479 0.00789227 0.02085815 0.0027023  0.00299439 0.00312768\n",
      " 0.00609734 0.00763508 0.00779497 0.01131541 0.01061878 0.00740227\n",
      " 0.00225424 0.00301304 0.00258797 0.01125813 0.00760568 0.00770558\n",
      " 0.00851164 0.00764262 0.00871872 0.0031965  0.00450884 0.00533577\n",
      " 0.00937401 0.00703409 0.00731945 0.01057211 0.00845373 0.01198199\n",
      " 0.00524748 0.00522303 0.0050511  0.00707333 0.00827778 0.01002349\n",
      " 0.00532856 0.01714708 0.00669639 0.00364944 0.00555755 0.00339081]\n",
      "Best score: 0.854\n",
      "\n",
      " Best Parameter Values: \n",
      "clf__bootstrap: False\n",
      "clf__criterion: 'entropy'\n",
      "clf__max_depth: None\n",
      "clf__max_features: 'sqrt'\n",
      "clf__n_estimators: 90\n"
     ]
    }
   ],
   "source": [
    "from sklearn.ensemble import RandomForestClassifier\n",
    "\n",
    "pipelineForest = Pipeline([ \n",
    "    ('vectorizer', CountVectorizer(stop_words = stop_words, ngram_range = (1,1), max_features = None)),\n",
    "    ('tfidf', TfidfTransformer()),\n",
    "    ('clf', RandomForestClassifier())\n",
    "])\n",
    "\n",
    "#n_estimators parameter:The number of trees in the forest\n",
    "#criterion parameter:The function to measure the quality of a split (gini or entropy)\n",
    "#max_depth parameter:The maximum depth of the tree.\n",
    "#max_features parameter:The number of features to consider when looking for the best split. If “sqrt”, then max_features=sqrt(n_features) (same as “auto”). If “log2”, then max_features=log2(n_features). If None, then max_features=n_features.\n",
    "#bootstrap parameter: Whether bootstrap samples are used when building trees. If False, the whole datset is used to build each tree.\n",
    "parameters = {'clf__n_estimators': [50, 70, 90],\n",
    "             'clf__criterion': ['gini', 'entropy'],\n",
    "             'clf__max_depth': [None, 10, 20],\n",
    "             'clf__max_features': ['sqrt', 'log2', None],\n",
    "             'clf__bootstrap': [True, False]}\n",
    "n_folds = 5\n",
    "\n",
    "forest_GridSearch = GridSearchCV(pipelineForest, param_grid = parameters, cv=n_folds)\n",
    "forest_GridSearch.fit(X_train, y_train)\n",
    "\n",
    "scores = forest_GridSearch.cv_results_['mean_test_score']\n",
    "scores_std = forest_GridSearch.cv_results_['std_test_score']\n",
    "\n",
    "print('scores:',scores)\n",
    "print('scores_std',scores_std)\n",
    "\n",
    "print(\"Best score: %0.3f\" % forest_GridSearch.best_score_)\n",
    "\n",
    "print(\"\\n Best Parameter Values: \")\n",
    "for param_name in sorted(parameters.keys()):\n",
    "    print(\"%s: %r\" % (param_name, forest_GridSearch.best_params_[param_name]))"
   ]
  },
  {
   "cell_type": "code",
   "execution_count": 27,
   "metadata": {},
   "outputs": [
    {
     "name": "stdout",
     "output_type": "stream",
     "text": [
      "Predicted:  [1 0 1 ... 1 0 0]\n",
      "Accuracy:  85.66 %\n"
     ]
    }
   ],
   "source": [
    "from sklearn.ensemble import RandomForestClassifier\n",
    "pipelineForest = Pipeline([ \n",
    "    ('vectorizer', CountVectorizer(stop_words = stop_words, ngram_range = (1,1), max_features = None)),\n",
    "    ('tfidf', TfidfTransformer()),\n",
    "    ('clf', RandomForestClassifier(n_estimators = 120, criterion = 'entropy', max_depth = None, max_features = 'sqrt', bootstrap = False))\n",
    "])\n",
    "\n",
    "pipelineForest.fit(X_train, y_train)\n",
    "\n",
    "y_pred_forest = pipelineForest.predict(X_test)\n",
    "print(\"Predicted: \", y_pred_forest)\n",
    "\n",
    "print(\"Accuracy: \", metrics.accuracy_score(y_test, y_pred_forest)*100, \"%\")"
   ]
  },
  {
   "cell_type": "markdown",
   "metadata": {},
   "source": [
    "## Analyze which Model is the Best"
   ]
  },
  {
   "cell_type": "code",
   "execution_count": 33,
   "metadata": {},
   "outputs": [
    {
     "name": "stdout",
     "output_type": "stream",
     "text": [
      "Logistic Regression Accuracy:  88.356 %\n",
      "Logistic Regression Recall:  88.32 %\n",
      "Logistic Regression Precision:  88.38363621807702 % \n",
      "\n",
      "Decision Tree Accuracy:  73.42 %\n",
      "Decision Tree Recall:  83.744 %\n",
      "Decision Tree Precision:  69.41184271600027 % \n",
      "\n",
      "SVM Accuracy:  87.764 %\n",
      "SVM Recall:  87.056 %\n",
      "SVM Precision:  88.3064188915037 % \n",
      "\n",
      "Adaboost Accuracy:  86.16 %\n",
      "Adaboost Recall:  87.992 %\n",
      "Adaboost Precision:  84.88192622318259 % \n",
      "\n",
      "Random Forest Accuracy:  85.66 %\n",
      "Random Forest Recall:  85.136 %\n",
      "Random Forest Precision:  86.03767483224189 % \n",
      "\n"
     ]
    }
   ],
   "source": [
    "print(\"Logistic Regression Accuracy: \", metrics.accuracy_score(y_test, y_predLR)*100, \"%\")\n",
    "print(\"Logistic Regression Recall: \", metrics.recall_score(y_test, y_predLR)*100, \"%\")\n",
    "print(\"Logistic Regression Precision: \", metrics.precision_score(y_test, y_predLR)*100, \"%\", '\\n')\n",
    "\n",
    "print(\"Decision Tree Accuracy: \", metrics.accuracy_score(y_test, y_pred_tree)*100, \"%\")\n",
    "print(\"Decision Tree Recall: \", metrics.recall_score(y_test, y_pred_tree)*100, \"%\")\n",
    "print(\"Decision Tree Precision: \", metrics.precision_score(y_test, y_pred_tree)*100, \"%\", '\\n')\n",
    "\n",
    "print(\"SVM Accuracy: \", metrics.accuracy_score(y_test, y_predSVM)*100, \"%\")\n",
    "print(\"SVM Recall: \", metrics.recall_score(y_test, y_predSVM)*100, \"%\")\n",
    "print(\"SVM Precision: \", metrics.precision_score(y_test, y_predSVM)*100, \"%\", '\\n')\n",
    "\n",
    "print(\"Adaboost Accuracy: \", metrics.accuracy_score(y_test, y_pred_Ada)*100, \"%\")\n",
    "print(\"Adaboost Recall: \", metrics.recall_score(y_test, y_pred_Ada)*100, \"%\")\n",
    "print(\"Adaboost Precision: \", metrics.precision_score(y_test, y_pred_Ada)*100, \"%\", '\\n')\n",
    "\n",
    "print(\"Random Forest Accuracy: \", metrics.accuracy_score(y_test, y_pred_forest)*100, \"%\")\n",
    "print(\"Random Forest Recall: \", metrics.recall_score(y_test, y_pred_forest)*100, \"%\")\n",
    "print(\"Random Forest Precision: \", metrics.precision_score(y_test, y_pred_forest)*100, \"%\", '\\n')"
   ]
  },
  {
   "cell_type": "code",
   "execution_count": null,
   "metadata": {},
   "outputs": [],
   "source": []
  }
 ],
 "metadata": {
  "kernelspec": {
   "display_name": "Python 3",
   "language": "python",
   "name": "python3"
  },
  "language_info": {
   "codemirror_mode": {
    "name": "ipython",
    "version": 3
   },
   "file_extension": ".py",
   "mimetype": "text/x-python",
   "name": "python",
   "nbconvert_exporter": "python",
   "pygments_lexer": "ipython3",
   "version": "3.8.1"
  }
 },
 "nbformat": 4,
 "nbformat_minor": 4
}
